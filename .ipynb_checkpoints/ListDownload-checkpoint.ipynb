{
 "cells": [
  {
   "cell_type": "code",
   "execution_count": 1,
   "metadata": {},
   "outputs": [
    {
     "name": "stdout",
     "output_type": "stream",
     "text": [
      "The autoreload extension is already loaded. To reload it, use:\n",
      "  %reload_ext autoreload\n"
     ]
    }
   ],
   "source": [
    "# %load_ext autoreload\n",
    "# %autoreload 2\n",
    "import getFav\n",
    "from user_info import user_info\n",
    "import os\n",
    "import newVideoDownloader as vd"
   ]
  },
  {
   "cell_type": "code",
   "execution_count": 2,
   "metadata": {},
   "outputs": [],
   "source": [
    "import csvHelper as csv"
   ]
  },
  {
   "cell_type": "code",
   "execution_count": 5,
   "metadata": {},
   "outputs": [],
   "source": [
    "def mkdir(path):\n",
    "    folder = os.path.exists(path)\n",
    "    if not folder:        \n",
    "        os.makedirs(path) \n",
    "        print(f'new path {path}')\n",
    "    else:\n",
    "        print(f'path `{path}` exists')"
   ]
  },
  {
   "cell_type": "code",
   "execution_count": 6,
   "metadata": {},
   "outputs": [],
   "source": [
    "import re\n",
    "def validateTitle(title):\n",
    "    rstr = r\"[\\/\\\\\\:\\*\\?\\\"\\<\\>\\|]\"  # '/ \\ : * ? \" < > |'\n",
    "    new_title = re.sub(rstr, \"-\", title)  # 替换为-\n",
    "    return new_title"
   ]
  },
  {
   "cell_type": "code",
   "execution_count": 7,
   "metadata": {},
   "outputs": [],
   "source": [
    "def download(media_id):\n",
    "    title = 'bilibili.csv'\n",
    "    fav_title, fav_up, fav_num = getFav.getFavInfo(media_id)\n",
    "    print(fav_title, fav_up, fav_num)\n",
    "    path = user_info['path']\n",
    "    print(f'下载位置为 `{path}`')\n",
    "    fav_path = path+'/'+fav_title\n",
    "    mkdir(fav_path)\n",
    "    bv_list, page_list, title_list = getFav.getFavList(media_id)\n",
    "    getFav.showFavInfo(title_list)\n",
    "    for i in range(fav_num):\n",
    "        if csv.exist(title, bv_list[i]):\n",
    "            print(f'视频 {title_list[i]} 已下载')\n",
    "            continue\n",
    "        if title_list[i] == '已失效视频':\n",
    "            print(f'视频 {title_list[i]} 已失效')\n",
    "            continue\n",
    "        url = f'https://www.bilibili.com/video/{bv_list[i]}'\n",
    "        print(f'开始下载 {title_list[i]}: {url}, 共{page_list[i]}P:')\n",
    "        if page_list[i] == 1:\n",
    "            vd.download(url, fav_path, title_list[i])\n",
    "        if page_list[i] > 1:\n",
    "            vid_path = fav_path + '/' +validateTitle(title_list[i])\n",
    "            mkdir(vid_path)\n",
    "            vd.playlist(url, vid_path, page_list[i])\n",
    "        csv.addLine(title, [bv_list[i], title_list[i], page_list[i]])"
   ]
  },
  {
   "cell_type": "code",
   "execution_count": null,
   "metadata": {},
   "outputs": [
    {
     "name": "stdout",
     "output_type": "stream",
     "text": [
      "默认收藏夹 希颜咸 36\n",
      "下载位置为 `/Volumes/我的文件/bilibili`\n",
      "path `/Volumes/我的文件/bilibili/默认收藏夹` exists\n",
      "总共36个BV，已失效6个\n",
      "开始下载 真香？Redmi小爱触屏音箱8的那些坑！！！我来唱反调～: https://www.bilibili.com/video/BV19e411s7N7, 共1P:\n",
      "开始下载 【480P/DVDRip】Betty Boop_贝蒂小姐 16集全【彩版/生肉】: https://www.bilibili.com/video/BV1gs411a792, 共16P:\n",
      "new path /Volumes/我的文件/bilibili/默认收藏夹/【480P-DVDRip】Betty Boop_贝蒂小姐 16集全【彩版-生肉】\n",
      "开始下载 当年刷爆微博朋友圈玩悠悠球的小男孩，现在还是那么强！hajime miura 99％ 2018: https://www.bilibili.com/video/BV1Q4411w7Ni, 共2P:\n",
      "path `/Volumes/我的文件/bilibili/默认收藏夹/当年刷爆微博朋友圈玩悠悠球的小男孩，现在还是那么强！hajime miura 99％ 2018` exists\n",
      "开始下载 黄智贤：停掉《夜问打权》，蔡英文到底怕我什么？: https://www.bilibili.com/video/BV1d441197Xr, 共1P:\n",
      "开始下载 用Excel背单词 | 在2周内背完3000词 | GRE如何自学一个月330: https://www.bilibili.com/video/BV1ub411H7Pt, 共1P:\n",
      "视频 已失效视频 已失效\n",
      "视频 已失效视频 已失效\n",
      "开始下载 托福听力满分集训营 托福听力最强音: https://www.bilibili.com/video/BV1cW411k7R3, 共18P:\n",
      "path `/Volumes/我的文件/bilibili/默认收藏夹/托福听力满分集训营 托福听力最强音` exists\n",
      "开始下载 【万门】托福听力: https://www.bilibili.com/video/BV1os411r7Nx, 共17P:\n",
      "path `/Volumes/我的文件/bilibili/默认收藏夹/【万门】托福听力` exists\n"
     ]
    }
   ],
   "source": [
    "if __name__ == '__main__':\n",
    "    media_id = 51460660\n",
    "    download(media_id)"
   ]
  },
  {
   "cell_type": "code",
   "execution_count": null,
   "metadata": {},
   "outputs": [],
   "source": []
  }
 ],
 "metadata": {
  "kernelspec": {
   "display_name": "Python 3",
   "language": "python",
   "name": "python3"
  },
  "language_info": {
   "codemirror_mode": {
    "name": "ipython",
    "version": 3
   },
   "file_extension": ".py",
   "mimetype": "text/x-python",
   "name": "python",
   "nbconvert_exporter": "python",
   "pygments_lexer": "ipython3",
   "version": "3.6.5"
  }
 },
 "nbformat": 4,
 "nbformat_minor": 4
}
