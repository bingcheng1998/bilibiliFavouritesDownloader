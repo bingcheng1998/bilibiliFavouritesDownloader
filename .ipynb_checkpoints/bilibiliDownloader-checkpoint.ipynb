{
 "cells": [
  {
   "cell_type": "code",
   "execution_count": 1,
   "metadata": {},
   "outputs": [
    {
     "name": "stdout",
     "output_type": "stream",
     "text": [
      "The autoreload extension is already loaded. To reload it, use:\n",
      "  %reload_ext autoreload\n"
     ]
    }
   ],
   "source": [
    "from ListDownload import download"
   ]
  },
  {
   "cell_type": "code",
   "execution_count": 2,
   "metadata": {},
   "outputs": [],
   "source": [
    "from user_info import user_info"
   ]
  },
  {
   "cell_type": "code",
   "execution_count": 3,
   "metadata": {},
   "outputs": [],
   "source": [
    "favorate_ids = user_info['favorate_id']"
   ]
  },
  {
   "cell_type": "code",
   "execution_count": null,
   "metadata": {},
   "outputs": [
    {
     "name": "stdout",
     "output_type": "stream",
     "text": [
      "默认收藏夹 希颜咸 36\n",
      "下载位置为 `/Volumes/我的文件/bilibili`\n",
      "path `/Volumes/我的文件/bilibili/默认收藏夹` exists\n",
      "总共36个BV，已失效6个\n",
      "开始下载 真香？Redmi小爱触屏音箱8的那些坑！！！我来唱反调～: https://www.bilibili.com/video/BV19e411s7N7, 共1P:\n"
     ]
    }
   ],
   "source": [
    "for media_id in favorate_ids:\n",
    "    download(media_id)"
   ]
  },
  {
   "cell_type": "code",
   "execution_count": null,
   "metadata": {},
   "outputs": [],
   "source": []
  }
 ],
 "metadata": {
  "kernelspec": {
   "display_name": "Python 3",
   "language": "python",
   "name": "python3"
  },
  "language_info": {
   "codemirror_mode": {
    "name": "ipython",
    "version": 3
   },
   "file_extension": ".py",
   "mimetype": "text/x-python",
   "name": "python",
   "nbconvert_exporter": "python",
   "pygments_lexer": "ipython3",
   "version": "3.6.5"
  }
 },
 "nbformat": 4,
 "nbformat_minor": 4
}
