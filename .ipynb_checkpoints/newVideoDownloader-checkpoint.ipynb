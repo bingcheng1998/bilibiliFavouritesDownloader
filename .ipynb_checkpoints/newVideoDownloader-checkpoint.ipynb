{
 "cells": [
  {
   "cell_type": "code",
   "execution_count": 29,
   "metadata": {},
   "outputs": [
    {
     "name": "stdout",
     "output_type": "stream",
     "text": [
      "The autoreload extension is already loaded. To reload it, use:\n",
      "  %reload_ext autoreload\n"
     ]
    }
   ],
   "source": [
    "# %load_ext autoreload\n",
    "# %autoreload 2"
   ]
  },
  {
   "cell_type": "code",
   "execution_count": 30,
   "metadata": {},
   "outputs": [
    {
     "data": {
      "text/plain": [
       "'BV1NJ411H7JH'"
      ]
     },
     "execution_count": 30,
     "metadata": {},
     "output_type": "execute_result"
    }
   ],
   "source": [
    "def url2bv(url):\n",
    "    # https://www.bilibili.com/video/BV1NJ411H7JH/ -> BV1NJ411H7JH\n",
    "    bv = url.split('/')\n",
    "    if len(bv[-1]) == 0:\n",
    "        bv = bv[-2]\n",
    "    else: bv = bv[-1]\n",
    "    assert bv[:2] == 'BV'\n",
    "    return bv\n",
    "    \n",
    "url2bv('https://www.bilibili.com/video/BV1NJ411H7JH/')"
   ]
  },
  {
   "cell_type": "code",
   "execution_count": 44,
   "metadata": {},
   "outputs": [],
   "source": [
    "import HeaderHelper as hh\n",
    "from user_info import user_info\n",
    "import json\n",
    "\n",
    "def getPartNames(url, pages):\n",
    "    bvid = url2bv(url)\n",
    "    url, params, headers = hh.gen_fav_info(hh.LIST_PART_INFO, user_info['cookie'])\n",
    "    params['bvid'] = bvid\n",
    "#     print(url, params, headers)\n",
    "    response = hh.send_request(url, headers, params)\n",
    "    list_json = json.loads(response.text)\n",
    "    assert len(list_json['data']) == pages\n",
    "    p_name = []\n",
    "    for part in list_json['data']:\n",
    "        p_name.append(part['part'])\n",
    "    return p_name"
   ]
  },
  {
   "cell_type": "code",
   "execution_count": 36,
   "metadata": {},
   "outputs": [],
   "source": [
    "import re\n",
    "def validateTitle(title):\n",
    "    rstr = r\"[\\/\\\\\\:\\*\\?\\\"\\<\\>\\|]\"  # '/ \\ : * ? \" < > |'\n",
    "    new_title = re.sub(rstr, \"-\", title)  # 替换为-\n",
    "    return new_title"
   ]
  },
  {
   "cell_type": "code",
   "execution_count": 11,
   "metadata": {},
   "outputs": [],
   "source": [
    "from subprocess import call\n",
    "def download(url, path, name):\n",
    "#     shell_run = f\"youtube-dl -o '{path}/%(title)s.%(ext)s' {url}\"\n",
    "    shell_run = f\"you-get -o '{path}' -O '{name}'  -c ./cookies.txt {url}\"\n",
    "    print(shell_run)\n",
    "    call(shell_run, shell=True)\n",
    "\n",
    "def playlist(url, path, pages):\n",
    "    p_name = getPartNames(url, pages)\n",
    "    for i in range(pages):\n",
    "        shell_run = f\"you-get -o '{path}' -O '[P{i+1}].{validateTitle(p_name[i])}' \\\n",
    "        -c ./cookies.txt {url}?p={i+1}\"\n",
    "        print(shell_run)\n",
    "        call(shell_run, shell=True)\n"
   ]
  },
  {
   "cell_type": "code",
   "execution_count": 12,
   "metadata": {},
   "outputs": [
    {
     "name": "stdout",
     "output_type": "stream",
     "text": [
      "you-get -o '/Users/bingcheng/Downloads/bv1' -O test2  -c ./cookies.txt https://www.bilibili.com/video/BV1r4411f7td?p=5\n"
     ]
    }
   ],
   "source": [
    "if __name__ == '__main__':\n",
    "#     url='https://www.bilibili.com/video/BV1NJ411H7JH'\n",
    "    url = 'https://www.bilibili.com/video/BV1r4411f7td?p=5'\n",
    "    pages = 60\n",
    "    path = '/Users/bingcheng/Downloads/bv1'\n",
    "    download(url, path, 'test2')\n",
    "#     playlist(url, path, pages)"
   ]
  },
  {
   "cell_type": "code",
   "execution_count": null,
   "metadata": {},
   "outputs": [],
   "source": []
  }
 ],
 "metadata": {
  "kernelspec": {
   "display_name": "Python 3",
   "language": "python",
   "name": "python3"
  },
  "language_info": {
   "codemirror_mode": {
    "name": "ipython",
    "version": 3
   },
   "file_extension": ".py",
   "mimetype": "text/x-python",
   "name": "python",
   "nbconvert_exporter": "python",
   "pygments_lexer": "ipython3",
   "version": "3.6.5"
  }
 },
 "nbformat": 4,
 "nbformat_minor": 4
}
