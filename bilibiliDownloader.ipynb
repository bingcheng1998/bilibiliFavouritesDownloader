{
 "cells": [
  {
   "cell_type": "code",
   "execution_count": 1,
   "metadata": {},
   "outputs": [
    {
     "name": "stdout",
     "output_type": "stream",
     "text": [
      "The autoreload extension is already loaded. To reload it, use:\n",
      "  %reload_ext autoreload\n"
     ]
    }
   ],
   "source": [
    "from ListDownload import download"
   ]
  },
  {
   "cell_type": "code",
   "execution_count": 2,
   "metadata": {},
   "outputs": [],
   "source": [
    "from user_info import user_info"
   ]
  },
  {
   "cell_type": "code",
   "execution_count": 3,
   "metadata": {},
   "outputs": [],
   "source": [
    "favorate_ids = user_info['favorate_id']"
   ]
  },
  {
   "cell_type": "code",
   "execution_count": null,
   "metadata": {},
   "outputs": [
    {
     "name": "stdout",
     "output_type": "stream",
     "text": [
      "编程指南 希颜咸 16\n",
      "下载位置为 `/Volumes/我的文件/bilibili`\n",
      "new path /Volumes/我的文件/bilibili/编程指南\n",
      "总共16个BV，已失效2个\n",
      "开始下载 2019斯坦福公开课CS224N（可选字幕版）: https://www.bilibili.com/video/BV1r4411f7td, 共20P:\n",
      "new path /Volumes/我的文件/bilibili/编程指南/2019斯坦福公开课CS224N（可选字幕版）\n",
      "you-get -o '/Volumes/我的文件/bilibili/编程指南/2019斯坦福公开课CS224N（可选字幕版）' --playlist https://www.bilibili.com/video/BV1r4411f7td\n"
     ]
    }
   ],
   "source": [
    "for media_id in favorate_ids:\n",
    "    download(media_id)"
   ]
  },
  {
   "cell_type": "code",
   "execution_count": null,
   "metadata": {},
   "outputs": [],
   "source": []
  }
 ],
 "metadata": {
  "kernelspec": {
   "display_name": "Python 3",
   "language": "python",
   "name": "python3"
  },
  "language_info": {
   "codemirror_mode": {
    "name": "ipython",
    "version": 3
   },
   "file_extension": ".py",
   "mimetype": "text/x-python",
   "name": "python",
   "nbconvert_exporter": "python",
   "pygments_lexer": "ipython3",
   "version": "3.6.5"
  }
 },
 "nbformat": 4,
 "nbformat_minor": 4
}
