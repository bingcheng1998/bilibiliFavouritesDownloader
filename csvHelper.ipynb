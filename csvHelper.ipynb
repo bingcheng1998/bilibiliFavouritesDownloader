{
 "cells": [
  {
   "cell_type": "markdown",
   "metadata": {},
   "source": [
    "# CSV 数据存储服务\n",
    "\n",
    "- 数据存储为csv表格，提供方法：\n",
    "    - 新建表格\n",
    "    - 增添新的行\n",
    "    - 删除行\n",
    "    - 修改行\n",
    "    - 查找行\n",
    "    - 存在行\n",
    "    \n",
    "- 用于替换sqlite，方便随时查看内容\n",
    "\n",
    "- 用于少量数据且对于效率要求不高的应用（如爬虫）"
   ]
  },
  {
   "cell_type": "markdown",
   "metadata": {},
   "source": [
    "## 新建表格\n",
    "\n",
    "- 存在则查看是否形式一致，一致则跳过\n",
    "- 不一致则报错，停止\n",
    "- 不存在则新建"
   ]
  },
  {
   "cell_type": "code",
   "execution_count": 54,
   "metadata": {},
   "outputs": [],
   "source": [
    "import csv\n",
    "\n",
    "def newCSV(title, fileds_list):\n",
    "    with open(title, 'w', newline='') as csvfile:\n",
    "        writer = csv.DictWriter(csvfile, fieldnames=fileds_list)\n",
    "        writer.writeheader()\n",
    "        \n",
    "if __name__ == '__main__':\n",
    "    fieldnames = ['first_name', 'last_name']\n",
    "    title = 'names.csv'\n",
    "    newCSV(title, fieldnames)"
   ]
  },
  {
   "cell_type": "markdown",
   "metadata": {},
   "source": [
    "## 增加行"
   ]
  },
  {
   "cell_type": "code",
   "execution_count": 56,
   "metadata": {},
   "outputs": [],
   "source": [
    "def addLine(title, content_dict):\n",
    "    with open(title, 'a+', newline='') as csvfile:\n",
    "        writer = csv.writer(csvfile)\n",
    "        writer.writerow(content_dict)\n",
    "        \n",
    "if __name__ == '__main__':\n",
    "    title = 'names.csv'\n",
    "    content_dict =[ 'Baked', 'Beans']\n",
    "    addLine(title, content_dict)\n",
    "    dd =[ 'Baked2', 'Beans']\n",
    "    addLine(title, dd)\n",
    "    dd =[ 'Baked3', 'Beans']\n",
    "    addLine(title, dd)\n",
    "    dd =[ 'Baked4', 'Beans']\n",
    "    addLine(title, dd)\n",
    "        "
   ]
  },
  {
   "cell_type": "markdown",
   "metadata": {},
   "source": [
    "## 查找行"
   ]
  },
  {
   "cell_type": "code",
   "execution_count": 60,
   "metadata": {},
   "outputs": [
    {
     "name": "stdout",
     "output_type": "stream",
     "text": [
      "False\n"
     ]
    }
   ],
   "source": [
    "def search(title, s):\n",
    "    try:\n",
    "        with open(title, 'r') as f:\n",
    "            reader = csv.reader(f)\n",
    "            for row in reader:\n",
    "                if s in row:\n",
    "#                     print(row)\n",
    "                    return row\n",
    "            return None\n",
    "    except:\n",
    "        return None\n",
    "    \n",
    "def exist(title, s):\n",
    "    return search(title, s) is not None\n",
    "            \n",
    "if __name__ == '__main__':\n",
    "    title = 'names.csv'\n",
    "    s = 'Baked5'\n",
    "    search(title, s)\n",
    "    print(exist(title, s))\n",
    "            "
   ]
  },
  {
   "cell_type": "code",
   "execution_count": null,
   "metadata": {},
   "outputs": [],
   "source": []
  }
 ],
 "metadata": {
  "kernelspec": {
   "display_name": "Python 3",
   "language": "python",
   "name": "python3"
  },
  "language_info": {
   "codemirror_mode": {
    "name": "ipython",
    "version": 3
   },
   "file_extension": ".py",
   "mimetype": "text/x-python",
   "name": "python",
   "nbconvert_exporter": "python",
   "pygments_lexer": "ipython3",
   "version": "3.6.5"
  }
 },
 "nbformat": 4,
 "nbformat_minor": 4
}
