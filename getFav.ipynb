{
 "cells": [
  {
   "cell_type": "code",
   "execution_count": 1,
   "metadata": {},
   "outputs": [],
   "source": [
    "# %load_ext autoreload\n",
    "# %autoreload 2"
   ]
  },
  {
   "cell_type": "code",
   "execution_count": 2,
   "metadata": {},
   "outputs": [],
   "source": [
    "from user_info import user_info"
   ]
  },
  {
   "cell_type": "code",
   "execution_count": 3,
   "metadata": {},
   "outputs": [],
   "source": [
    "import HeaderHelper as hh\n",
    "# import xPathHelper as xh"
   ]
  },
  {
   "cell_type": "code",
   "execution_count": 4,
   "metadata": {},
   "outputs": [],
   "source": [
    "import json"
   ]
  },
  {
   "cell_type": "code",
   "execution_count": 5,
   "metadata": {},
   "outputs": [],
   "source": [
    "def getFavList(media_id):\n",
    "    pn = 1\n",
    "    bv_list = []\n",
    "    page_list = []\n",
    "    title_list = []\n",
    "    while True:\n",
    "        url, params, headers = hh.gen_fav_info(hh.FAVORATE_INFO, user_info['cookie'])\n",
    "        params['media_id'] = media_id\n",
    "        params['pn'] = pn\n",
    "        pn += 1\n",
    "        response = hh.send_request(url, headers, params)\n",
    "        bili_json = json.loads(response.text)\n",
    "        if bili_json['data']['medias'] is None:\n",
    "            break\n",
    "        for video in bili_json['data']['medias']:\n",
    "            bv_list.append(video['bvid'])\n",
    "            page_list.append(video['page'])\n",
    "            title_list.append(video['title'])\n",
    "    return bv_list, page_list, title_list"
   ]
  },
  {
   "cell_type": "code",
   "execution_count": 19,
   "metadata": {},
   "outputs": [],
   "source": [
    "def showFavInfo(title_list):\n",
    "    num = len(title_list)\n",
    "    unfinished = sum([item == '已失效视频' for item in title_list])\n",
    "    print(f'总共{num}个BV，已失效{unfinished}个')"
   ]
  },
  {
   "cell_type": "code",
   "execution_count": 20,
   "metadata": {},
   "outputs": [
    {
     "name": "stdout",
     "output_type": "stream",
     "text": [
      "总共54个BV，已失效12个\n"
     ]
    }
   ],
   "source": [
    "if __name__ == '__main__':\n",
    "    media_id = 57789760\n",
    "    bv_list, page_list, title_list = getFavList(media_id)\n",
    "    showFavInfo(title_list)"
   ]
  },
  {
   "cell_type": "code",
   "execution_count": 16,
   "metadata": {},
   "outputs": [],
   "source": [
    "def getFavInfo(media_id):\n",
    "    url, params, headers = hh.gen_fav_info(hh.FAVORATE_INFO, user_info['cookie'])\n",
    "    params['media_id'] = media_id\n",
    "    params['pn'] = 1\n",
    "    response = hh.send_request(url, headers, params)\n",
    "    bili_json = json.loads(response.text)\n",
    "    fav_title = bili_json['data']['info']['title']\n",
    "    fav_up = bili_json['data']['info']['upper']['name']\n",
    "    fav_num = bili_json['data']['info']['media_count']\n",
    "#     print(bili_json['data']['info'])\n",
    "    return fav_title, fav_up, fav_num"
   ]
  },
  {
   "cell_type": "code",
   "execution_count": 17,
   "metadata": {},
   "outputs": [
    {
     "name": "stdout",
     "output_type": "stream",
     "text": [
      "音乐 希颜咸 54\n"
     ]
    }
   ],
   "source": [
    "if __name__ == '__main__':\n",
    "    media_id = 57789760\n",
    "    fav_title, fav_up, fav_num = getFavInfo(media_id)\n",
    "    print(fav_title, fav_up, fav_num)"
   ]
  },
  {
   "cell_type": "code",
   "execution_count": null,
   "metadata": {},
   "outputs": [],
   "source": []
  }
 ],
 "metadata": {
  "kernelspec": {
   "display_name": "Python 3",
   "language": "python",
   "name": "python3"
  },
  "language_info": {
   "codemirror_mode": {
    "name": "ipython",
    "version": 3
   },
   "file_extension": ".py",
   "mimetype": "text/x-python",
   "name": "python",
   "nbconvert_exporter": "python",
   "pygments_lexer": "ipython3",
   "version": "3.6.5"
  }
 },
 "nbformat": 4,
 "nbformat_minor": 4
}
